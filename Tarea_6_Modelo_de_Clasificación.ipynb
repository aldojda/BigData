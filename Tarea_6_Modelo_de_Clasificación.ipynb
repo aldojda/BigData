{
  "nbformat": 4,
  "nbformat_minor": 0,
  "metadata": {
    "colab": {
      "provenance": [],
      "gpuType": "T4",
      "authorship_tag": "ABX9TyPrTGBBGImnGnubK/NCN+FC",
      "include_colab_link": true
    },
    "kernelspec": {
      "name": "python3",
      "display_name": "Python 3"
    },
    "language_info": {
      "name": "python"
    },
    "accelerator": "GPU"
  },
  "cells": [
    {
      "cell_type": "markdown",
      "metadata": {
        "id": "view-in-github",
        "colab_type": "text"
      },
      "source": [
        "<a href=\"https://colab.research.google.com/github/aldojda/BigData/blob/main/Tarea_6_Modelo_de_Clasificaci%C3%B3n.ipynb\" target=\"_parent\"><img src=\"https://colab.research.google.com/assets/colab-badge.svg\" alt=\"Open In Colab\"/></a>"
      ]
    },
    {
      "cell_type": "code",
      "execution_count": null,
      "metadata": {
        "id": "RjE1iFAu0xUD"
      },
      "outputs": [],
      "source": [
        "import numpy as np\n",
        "import pandas as pd\n",
        "import sklearn.datasets\n",
        "import sklearn.metrics\n",
        "import sklearn.model_selection\n",
        "import sklearn.ensemble\n",
        "from sklearn.model_selection import train_test_split\n",
        "from sklearn.compose import ColumnTransformer\n",
        "from sklearn.preprocessing import OneHotEncoder, OrdinalEncoder, StandardScaler\n",
        "from sklearn.datasets import make_blobs\n",
        "from sklearn.neural_network import MLPClassifier\n",
        "from sklearn.model_selection import RandomizedSearchCV\n",
        "from sklearn.model_selection import GridSearchCV\n",
        "from sklearn.model_selection import KFold\n",
        "from sklearn.pipeline import Pipeline\n",
        "from sklearn import set_config\n",
        "from joblib import Parallel, delayed"
      ]
    },
    {
      "cell_type": "markdown",
      "source": [
        "\n",
        "# Fraudes en AirBnB: Caso de estudio"
      ],
      "metadata": {
        "id": "uQCiGzkYZ6ff"
      }
    },
    {
      "cell_type": "code",
      "source": [
        "# Fraudes en AirBnB: Caso de estudio\n",
        "from google.colab import drive\n",
        "drive.mount('/content/drive')"
      ],
      "metadata": {
        "colab": {
          "base_uri": "https://localhost:8080/"
        },
        "id": "_37rmWhnZv5I",
        "outputId": "af1eb761-49f3-4d8c-a59d-c8e5fcc8db86"
      },
      "execution_count": null,
      "outputs": [
        {
          "output_type": "stream",
          "name": "stdout",
          "text": [
            "Drive already mounted at /content/drive; to attempt to forcibly remount, call drive.mount(\"/content/drive\", force_remount=True).\n"
          ]
        }
      ]
    },
    {
      "cell_type": "code",
      "source": [
        "ls \"drive/MyDrive\""
      ],
      "metadata": {
        "colab": {
          "base_uri": "https://localhost:8080/"
        },
        "id": "6tVWTQsFah0H",
        "outputId": "b8536e5b-f32f-44ca-b020-ddd848b6e8ab"
      },
      "execution_count": null,
      "outputs": [
        {
          "output_type": "stream",
          "name": "stdout",
          "text": [
            " \u001b[0m\u001b[01;34m00-Personal\u001b[0m/                       2923266427_protegido.pdf\n",
            "\u001b[01;34m'01 - Maestría Ciencia de Datos'\u001b[0m/  \u001b[01;34m'Colab Notebooks'\u001b[0m/\n",
            " \u001b[01;34m02-Profesional\u001b[0m/                    npsfebrero_2702.csv\n",
            " \u001b[01;34m05-Libros\u001b[0m/                         npsjulio_clean.csv\n",
            " \u001b[01;34m06-Proyectos\u001b[0m/\n"
          ]
        }
      ]
    },
    {
      "cell_type": "code",
      "source": [
        "path = \"drive/MyDrive/01 - Maestría Ciencia de Datos/Datos Masivos/Tarea 2/dataset_airbnb.csv\"\n",
        "df = pd.read_csv(path)\n",
        "df.info()"
      ],
      "metadata": {
        "id": "fr9tIFtO7S0N",
        "colab": {
          "base_uri": "https://localhost:8080/"
        },
        "outputId": "68ea80db-21fb-40e3-deff-3863333e0ff0"
      },
      "execution_count": null,
      "outputs": [
        {
          "output_type": "stream",
          "name": "stdout",
          "text": [
            "<class 'pandas.core.frame.DataFrame'>\n",
            "RangeIndex: 3585 entries, 0 to 3584\n",
            "Data columns (total 21 columns):\n",
            " #   Column                     Non-Null Count  Dtype  \n",
            "---  ------                     --------------  -----  \n",
            " 0   host_response_rate         3585 non-null   int64  \n",
            " 1   host_identity_verified     3585 non-null   int64  \n",
            " 2   host_total_listings_count  3585 non-null   int64  \n",
            " 3   city                       3585 non-null   int64  \n",
            " 4   is_location_exact          3585 non-null   int64  \n",
            " 5   property_type              3585 non-null   int64  \n",
            " 6   room_type                  3585 non-null   int64  \n",
            " 7   accommodates               3585 non-null   int64  \n",
            " 8   bathrooms                  3585 non-null   float64\n",
            " 9   bedrooms                   3585 non-null   float64\n",
            " 10  beds                       3585 non-null   float64\n",
            " 11  bed_type                   3585 non-null   int64  \n",
            " 12  amenities                  3585 non-null   int64  \n",
            " 13  price                      3585 non-null   int64  \n",
            " 14  minimum_nights             3585 non-null   int64  \n",
            " 15  number_of_reviews          3585 non-null   int64  \n",
            " 16  review_scores_rating       3585 non-null   float64\n",
            " 17  instant_bookable           3585 non-null   int64  \n",
            " 18  cancellation_policy        3585 non-null   int64  \n",
            " 19  reviews_per_month          3585 non-null   float64\n",
            " 20  fraud                      3585 non-null   int64  \n",
            "dtypes: float64(5), int64(16)\n",
            "memory usage: 588.3 KB\n"
          ]
        }
      ]
    },
    {
      "cell_type": "code",
      "source": [
        "from sklearn.model_selection import train_test_split\n",
        "X_train, X_test, y_train, y_test = train_test_split(df.drop(columns = \"fraud\"), df[\"fraud\"], test_size=0.2, random_state=42)\n",
        "\n",
        "numeric_cols = X_train.select_dtypes(include=['float64', 'int64', \"int\"]).columns.to_list()\n",
        "\n",
        "numeric_transformer = Pipeline(\n",
        "                        steps=[('scaler', StandardScaler())]\n",
        "                      )\n",
        "preprocessor = ColumnTransformer(transformers=[('numeric', numeric_transformer, numeric_cols)],\n",
        "                                 remainder='passthrough')\n",
        "\n",
        "X_train_prep = preprocessor.fit_transform(X_train)\n",
        "X_test_prep  = preprocessor.transform(X_test)"
      ],
      "metadata": {
        "id": "AJCI9HiEh0Gp"
      },
      "execution_count": null,
      "outputs": []
    },
    {
      "cell_type": "code",
      "source": [
        "### neural network\n",
        "model_1 =MLPClassifier(\n",
        "            random_state = 0\n",
        "            ).fit(X = X_train_prep, y = y_train)"
      ],
      "metadata": {
        "colab": {
          "base_uri": "https://localhost:8080/"
        },
        "id": "D4g5dkxViF9l",
        "outputId": "da1afd41-b70a-420b-c047-6552ae043f2b"
      },
      "execution_count": null,
      "outputs": [
        {
          "output_type": "stream",
          "name": "stderr",
          "text": [
            "/usr/local/lib/python3.10/dist-packages/sklearn/neural_network/_multilayer_perceptron.py:686: ConvergenceWarning: Stochastic Optimizer: Maximum iterations (200) reached and the optimization hasn't converged yet.\n",
            "  warnings.warn(\n"
          ]
        }
      ]
    },
    {
      "cell_type": "code",
      "source": [
        "### predictions\n",
        "pred = model_1.predict(X = X_test_prep)"
      ],
      "metadata": {
        "id": "DfVaGlHEiz3H"
      },
      "execution_count": null,
      "outputs": []
    },
    {
      "cell_type": "code",
      "source": [
        "from sklearn.metrics import classification_report\n",
        "print(\n",
        "    classification_report(\n",
        "        y_true = y_test,\n",
        "        y_pred = pred\n",
        "    )\n",
        ")"
      ],
      "metadata": {
        "colab": {
          "base_uri": "https://localhost:8080/"
        },
        "id": "_QbtHPFsi4NZ",
        "outputId": "e6a5c6fd-7f61-4b6f-8b1c-487e557cc042"
      },
      "execution_count": null,
      "outputs": [
        {
          "output_type": "stream",
          "name": "stdout",
          "text": [
            "              precision    recall  f1-score   support\n",
            "\n",
            "           0       0.89      0.92      0.91       561\n",
            "           1       0.69      0.60      0.64       156\n",
            "\n",
            "    accuracy                           0.85       717\n",
            "   macro avg       0.79      0.76      0.77       717\n",
            "weighted avg       0.85      0.85      0.85       717\n",
            "\n"
          ]
        }
      ]
    },
    {
      "cell_type": "code",
      "source": [
        "from sklearn.metrics import fbeta_score, f1_score, make_scorer, roc_auc_score\n",
        "ftwo_scorer = make_scorer(fbeta_score, beta=2)\n",
        "f_scorer = make_scorer(f1_score)\n",
        "roc_auc_scorer = make_scorer(roc_auc_score)\n",
        "\n",
        "# Hyperparameters\n",
        "param_distributions = {\n",
        "  'hidden_layer_sizes':[(100),(20,6),(32,5)],\n",
        "  'activation':['tanh', 'relu'],\n",
        "  'solver':['sgd'],\n",
        "  'learning_rate':['adaptive','constant'],\n",
        "  'learning_rate_init':[0.000001, 0.00001, 0.0001, 0.001, 0.01, 0.1],\n",
        "  'max_iter': [10000]\n",
        "}\n",
        "\n",
        "### random cross validation\n",
        "grid = RandomizedSearchCV(\n",
        "        estimator  = model_1,\n",
        "        param_distributions = param_distributions,\n",
        "        n_iter     = 50,\n",
        "        scoring    = roc_auc_scorer, #f_scorer, # ftwo_scorer\n",
        "        cv         = 10,\n",
        "        verbose    = 0,\n",
        "        random_state = 0,\n",
        "        return_train_score = True,\n",
        "        n_jobs = -1\n",
        "       )\n",
        "\n",
        "grid.fit(X = X_train_prep, y = y_train)"
      ],
      "metadata": {
        "colab": {
          "base_uri": "https://localhost:8080/",
          "height": 117
        },
        "id": "o9lPuycya7IH",
        "outputId": "82a52167-8593-4704-b3d6-849250323169"
      },
      "execution_count": null,
      "outputs": [
        {
          "output_type": "execute_result",
          "data": {
            "text/plain": [
              "RandomizedSearchCV(cv=10, estimator=MLPClassifier(random_state=0), n_iter=50,\n",
              "                   n_jobs=-1,\n",
              "                   param_distributions={'activation': ['tanh', 'relu'],\n",
              "                                        'hidden_layer_sizes': [100, (20, 6),\n",
              "                                                               (32, 5)],\n",
              "                                        'learning_rate': ['adaptive',\n",
              "                                                          'constant'],\n",
              "                                        'learning_rate_init': [1e-06, 1e-05,\n",
              "                                                               0.0001, 0.001,\n",
              "                                                               0.01, 0.1],\n",
              "                                        'max_iter': [10000],\n",
              "                                        'solver': ['sgd']},\n",
              "                   random_state=0, return_train_score=True,\n",
              "                   scoring=make_scorer(roc_auc_score))"
            ],
            "text/html": [
              "<style>#sk-container-id-2 {color: black;background-color: white;}#sk-container-id-2 pre{padding: 0;}#sk-container-id-2 div.sk-toggleable {background-color: white;}#sk-container-id-2 label.sk-toggleable__label {cursor: pointer;display: block;width: 100%;margin-bottom: 0;padding: 0.3em;box-sizing: border-box;text-align: center;}#sk-container-id-2 label.sk-toggleable__label-arrow:before {content: \"▸\";float: left;margin-right: 0.25em;color: #696969;}#sk-container-id-2 label.sk-toggleable__label-arrow:hover:before {color: black;}#sk-container-id-2 div.sk-estimator:hover label.sk-toggleable__label-arrow:before {color: black;}#sk-container-id-2 div.sk-toggleable__content {max-height: 0;max-width: 0;overflow: hidden;text-align: left;background-color: #f0f8ff;}#sk-container-id-2 div.sk-toggleable__content pre {margin: 0.2em;color: black;border-radius: 0.25em;background-color: #f0f8ff;}#sk-container-id-2 input.sk-toggleable__control:checked~div.sk-toggleable__content {max-height: 200px;max-width: 100%;overflow: auto;}#sk-container-id-2 input.sk-toggleable__control:checked~label.sk-toggleable__label-arrow:before {content: \"▾\";}#sk-container-id-2 div.sk-estimator input.sk-toggleable__control:checked~label.sk-toggleable__label {background-color: #d4ebff;}#sk-container-id-2 div.sk-label input.sk-toggleable__control:checked~label.sk-toggleable__label {background-color: #d4ebff;}#sk-container-id-2 input.sk-hidden--visually {border: 0;clip: rect(1px 1px 1px 1px);clip: rect(1px, 1px, 1px, 1px);height: 1px;margin: -1px;overflow: hidden;padding: 0;position: absolute;width: 1px;}#sk-container-id-2 div.sk-estimator {font-family: monospace;background-color: #f0f8ff;border: 1px dotted black;border-radius: 0.25em;box-sizing: border-box;margin-bottom: 0.5em;}#sk-container-id-2 div.sk-estimator:hover {background-color: #d4ebff;}#sk-container-id-2 div.sk-parallel-item::after {content: \"\";width: 100%;border-bottom: 1px solid gray;flex-grow: 1;}#sk-container-id-2 div.sk-label:hover label.sk-toggleable__label {background-color: #d4ebff;}#sk-container-id-2 div.sk-serial::before {content: \"\";position: absolute;border-left: 1px solid gray;box-sizing: border-box;top: 0;bottom: 0;left: 50%;z-index: 0;}#sk-container-id-2 div.sk-serial {display: flex;flex-direction: column;align-items: center;background-color: white;padding-right: 0.2em;padding-left: 0.2em;position: relative;}#sk-container-id-2 div.sk-item {position: relative;z-index: 1;}#sk-container-id-2 div.sk-parallel {display: flex;align-items: stretch;justify-content: center;background-color: white;position: relative;}#sk-container-id-2 div.sk-item::before, #sk-container-id-2 div.sk-parallel-item::before {content: \"\";position: absolute;border-left: 1px solid gray;box-sizing: border-box;top: 0;bottom: 0;left: 50%;z-index: -1;}#sk-container-id-2 div.sk-parallel-item {display: flex;flex-direction: column;z-index: 1;position: relative;background-color: white;}#sk-container-id-2 div.sk-parallel-item:first-child::after {align-self: flex-end;width: 50%;}#sk-container-id-2 div.sk-parallel-item:last-child::after {align-self: flex-start;width: 50%;}#sk-container-id-2 div.sk-parallel-item:only-child::after {width: 0;}#sk-container-id-2 div.sk-dashed-wrapped {border: 1px dashed gray;margin: 0 0.4em 0.5em 0.4em;box-sizing: border-box;padding-bottom: 0.4em;background-color: white;}#sk-container-id-2 div.sk-label label {font-family: monospace;font-weight: bold;display: inline-block;line-height: 1.2em;}#sk-container-id-2 div.sk-label-container {text-align: center;}#sk-container-id-2 div.sk-container {/* jupyter's `normalize.less` sets `[hidden] { display: none; }` but bootstrap.min.css set `[hidden] { display: none !important; }` so we also need the `!important` here to be able to override the default hidden behavior on the sphinx rendered scikit-learn.org. See: https://github.com/scikit-learn/scikit-learn/issues/21755 */display: inline-block !important;position: relative;}#sk-container-id-2 div.sk-text-repr-fallback {display: none;}</style><div id=\"sk-container-id-2\" class=\"sk-top-container\"><div class=\"sk-text-repr-fallback\"><pre>RandomizedSearchCV(cv=10, estimator=MLPClassifier(random_state=0), n_iter=50,\n",
              "                   n_jobs=-1,\n",
              "                   param_distributions={&#x27;activation&#x27;: [&#x27;tanh&#x27;, &#x27;relu&#x27;],\n",
              "                                        &#x27;hidden_layer_sizes&#x27;: [100, (20, 6),\n",
              "                                                               (32, 5)],\n",
              "                                        &#x27;learning_rate&#x27;: [&#x27;adaptive&#x27;,\n",
              "                                                          &#x27;constant&#x27;],\n",
              "                                        &#x27;learning_rate_init&#x27;: [1e-06, 1e-05,\n",
              "                                                               0.0001, 0.001,\n",
              "                                                               0.01, 0.1],\n",
              "                                        &#x27;max_iter&#x27;: [10000],\n",
              "                                        &#x27;solver&#x27;: [&#x27;sgd&#x27;]},\n",
              "                   random_state=0, return_train_score=True,\n",
              "                   scoring=make_scorer(roc_auc_score))</pre><b>In a Jupyter environment, please rerun this cell to show the HTML representation or trust the notebook. <br />On GitHub, the HTML representation is unable to render, please try loading this page with nbviewer.org.</b></div><div class=\"sk-container\" hidden><div class=\"sk-item sk-dashed-wrapped\"><div class=\"sk-label-container\"><div class=\"sk-label sk-toggleable\"><input class=\"sk-toggleable__control sk-hidden--visually\" id=\"sk-estimator-id-4\" type=\"checkbox\" ><label for=\"sk-estimator-id-4\" class=\"sk-toggleable__label sk-toggleable__label-arrow\">RandomizedSearchCV</label><div class=\"sk-toggleable__content\"><pre>RandomizedSearchCV(cv=10, estimator=MLPClassifier(random_state=0), n_iter=50,\n",
              "                   n_jobs=-1,\n",
              "                   param_distributions={&#x27;activation&#x27;: [&#x27;tanh&#x27;, &#x27;relu&#x27;],\n",
              "                                        &#x27;hidden_layer_sizes&#x27;: [100, (20, 6),\n",
              "                                                               (32, 5)],\n",
              "                                        &#x27;learning_rate&#x27;: [&#x27;adaptive&#x27;,\n",
              "                                                          &#x27;constant&#x27;],\n",
              "                                        &#x27;learning_rate_init&#x27;: [1e-06, 1e-05,\n",
              "                                                               0.0001, 0.001,\n",
              "                                                               0.01, 0.1],\n",
              "                                        &#x27;max_iter&#x27;: [10000],\n",
              "                                        &#x27;solver&#x27;: [&#x27;sgd&#x27;]},\n",
              "                   random_state=0, return_train_score=True,\n",
              "                   scoring=make_scorer(roc_auc_score))</pre></div></div></div><div class=\"sk-parallel\"><div class=\"sk-parallel-item\"><div class=\"sk-item\"><div class=\"sk-label-container\"><div class=\"sk-label sk-toggleable\"><input class=\"sk-toggleable__control sk-hidden--visually\" id=\"sk-estimator-id-5\" type=\"checkbox\" ><label for=\"sk-estimator-id-5\" class=\"sk-toggleable__label sk-toggleable__label-arrow\">estimator: MLPClassifier</label><div class=\"sk-toggleable__content\"><pre>MLPClassifier(random_state=0)</pre></div></div></div><div class=\"sk-serial\"><div class=\"sk-item\"><div class=\"sk-estimator sk-toggleable\"><input class=\"sk-toggleable__control sk-hidden--visually\" id=\"sk-estimator-id-6\" type=\"checkbox\" ><label for=\"sk-estimator-id-6\" class=\"sk-toggleable__label sk-toggleable__label-arrow\">MLPClassifier</label><div class=\"sk-toggleable__content\"><pre>MLPClassifier(random_state=0)</pre></div></div></div></div></div></div></div></div></div></div>"
            ]
          },
          "metadata": {},
          "execution_count": 51
        }
      ]
    },
    {
      "cell_type": "code",
      "source": [
        "###grid results\n",
        "results = pd.DataFrame(grid.cv_results_)\n",
        "results.filter(regex = '(param.*|mean_t|std_t)')\\\n",
        "    .drop(columns = 'params')\\\n",
        "    .sort_values('mean_test_score', ascending = False)\\\n",
        "    .head()"
      ],
      "metadata": {
        "colab": {
          "base_uri": "https://localhost:8080/",
          "height": 250
        },
        "id": "m5ogmUYWjD3t",
        "outputId": "90c52d6c-3369-43dc-bc6d-0f81433d7a25"
      },
      "execution_count": null,
      "outputs": [
        {
          "output_type": "execute_result",
          "data": {
            "text/plain": [
              "   param_solver param_max_iter param_learning_rate_init param_learning_rate  \\\n",
              "14          sgd          10000                    0.001            constant   \n",
              "1           sgd          10000                    0.001            adaptive   \n",
              "32          sgd          10000                    0.001            constant   \n",
              "5           sgd          10000                    0.001            adaptive   \n",
              "42          sgd          10000                    0.001            adaptive   \n",
              "\n",
              "   param_hidden_layer_sizes param_activation  mean_test_score  std_test_score  \\\n",
              "14                  (32, 5)             tanh         0.731760        0.018683   \n",
              "1                   (32, 5)             tanh         0.731538        0.018885   \n",
              "32                  (20, 6)             relu         0.724974        0.018554   \n",
              "5                   (20, 6)             relu         0.724974        0.018554   \n",
              "42                  (20, 6)             tanh         0.722716        0.015565   \n",
              "\n",
              "    mean_train_score  std_train_score  \n",
              "14          0.744258         0.004533  \n",
              "1           0.744829         0.004842  \n",
              "32          0.744920         0.005047  \n",
              "5           0.745186         0.004538  \n",
              "42          0.736250         0.004769  "
            ],
            "text/html": [
              "\n",
              "\n",
              "  <div id=\"df-8154a822-ce6d-4cb3-b2d1-e8af3ed4dfba\">\n",
              "    <div class=\"colab-df-container\">\n",
              "      <div>\n",
              "<style scoped>\n",
              "    .dataframe tbody tr th:only-of-type {\n",
              "        vertical-align: middle;\n",
              "    }\n",
              "\n",
              "    .dataframe tbody tr th {\n",
              "        vertical-align: top;\n",
              "    }\n",
              "\n",
              "    .dataframe thead th {\n",
              "        text-align: right;\n",
              "    }\n",
              "</style>\n",
              "<table border=\"1\" class=\"dataframe\">\n",
              "  <thead>\n",
              "    <tr style=\"text-align: right;\">\n",
              "      <th></th>\n",
              "      <th>param_solver</th>\n",
              "      <th>param_max_iter</th>\n",
              "      <th>param_learning_rate_init</th>\n",
              "      <th>param_learning_rate</th>\n",
              "      <th>param_hidden_layer_sizes</th>\n",
              "      <th>param_activation</th>\n",
              "      <th>mean_test_score</th>\n",
              "      <th>std_test_score</th>\n",
              "      <th>mean_train_score</th>\n",
              "      <th>std_train_score</th>\n",
              "    </tr>\n",
              "  </thead>\n",
              "  <tbody>\n",
              "    <tr>\n",
              "      <th>14</th>\n",
              "      <td>sgd</td>\n",
              "      <td>10000</td>\n",
              "      <td>0.001</td>\n",
              "      <td>constant</td>\n",
              "      <td>(32, 5)</td>\n",
              "      <td>tanh</td>\n",
              "      <td>0.731760</td>\n",
              "      <td>0.018683</td>\n",
              "      <td>0.744258</td>\n",
              "      <td>0.004533</td>\n",
              "    </tr>\n",
              "    <tr>\n",
              "      <th>1</th>\n",
              "      <td>sgd</td>\n",
              "      <td>10000</td>\n",
              "      <td>0.001</td>\n",
              "      <td>adaptive</td>\n",
              "      <td>(32, 5)</td>\n",
              "      <td>tanh</td>\n",
              "      <td>0.731538</td>\n",
              "      <td>0.018885</td>\n",
              "      <td>0.744829</td>\n",
              "      <td>0.004842</td>\n",
              "    </tr>\n",
              "    <tr>\n",
              "      <th>32</th>\n",
              "      <td>sgd</td>\n",
              "      <td>10000</td>\n",
              "      <td>0.001</td>\n",
              "      <td>constant</td>\n",
              "      <td>(20, 6)</td>\n",
              "      <td>relu</td>\n",
              "      <td>0.724974</td>\n",
              "      <td>0.018554</td>\n",
              "      <td>0.744920</td>\n",
              "      <td>0.005047</td>\n",
              "    </tr>\n",
              "    <tr>\n",
              "      <th>5</th>\n",
              "      <td>sgd</td>\n",
              "      <td>10000</td>\n",
              "      <td>0.001</td>\n",
              "      <td>adaptive</td>\n",
              "      <td>(20, 6)</td>\n",
              "      <td>relu</td>\n",
              "      <td>0.724974</td>\n",
              "      <td>0.018554</td>\n",
              "      <td>0.745186</td>\n",
              "      <td>0.004538</td>\n",
              "    </tr>\n",
              "    <tr>\n",
              "      <th>42</th>\n",
              "      <td>sgd</td>\n",
              "      <td>10000</td>\n",
              "      <td>0.001</td>\n",
              "      <td>adaptive</td>\n",
              "      <td>(20, 6)</td>\n",
              "      <td>tanh</td>\n",
              "      <td>0.722716</td>\n",
              "      <td>0.015565</td>\n",
              "      <td>0.736250</td>\n",
              "      <td>0.004769</td>\n",
              "    </tr>\n",
              "  </tbody>\n",
              "</table>\n",
              "</div>\n",
              "      <button class=\"colab-df-convert\" onclick=\"convertToInteractive('df-8154a822-ce6d-4cb3-b2d1-e8af3ed4dfba')\"\n",
              "              title=\"Convert this dataframe to an interactive table.\"\n",
              "              style=\"display:none;\">\n",
              "\n",
              "  <svg xmlns=\"http://www.w3.org/2000/svg\" height=\"24px\"viewBox=\"0 0 24 24\"\n",
              "       width=\"24px\">\n",
              "    <path d=\"M0 0h24v24H0V0z\" fill=\"none\"/>\n",
              "    <path d=\"M18.56 5.44l.94 2.06.94-2.06 2.06-.94-2.06-.94-.94-2.06-.94 2.06-2.06.94zm-11 1L8.5 8.5l.94-2.06 2.06-.94-2.06-.94L8.5 2.5l-.94 2.06-2.06.94zm10 10l.94 2.06.94-2.06 2.06-.94-2.06-.94-.94-2.06-.94 2.06-2.06.94z\"/><path d=\"M17.41 7.96l-1.37-1.37c-.4-.4-.92-.59-1.43-.59-.52 0-1.04.2-1.43.59L10.3 9.45l-7.72 7.72c-.78.78-.78 2.05 0 2.83L4 21.41c.39.39.9.59 1.41.59.51 0 1.02-.2 1.41-.59l7.78-7.78 2.81-2.81c.8-.78.8-2.07 0-2.86zM5.41 20L4 18.59l7.72-7.72 1.47 1.35L5.41 20z\"/>\n",
              "  </svg>\n",
              "      </button>\n",
              "\n",
              "\n",
              "\n",
              "    <div id=\"df-0d3ef0c4-c4a8-499d-9a1c-742fd7eca985\">\n",
              "      <button class=\"colab-df-quickchart\" onclick=\"quickchart('df-0d3ef0c4-c4a8-499d-9a1c-742fd7eca985')\"\n",
              "              title=\"Suggest charts.\"\n",
              "              style=\"display:none;\">\n",
              "\n",
              "<svg xmlns=\"http://www.w3.org/2000/svg\" height=\"24px\"viewBox=\"0 0 24 24\"\n",
              "     width=\"24px\">\n",
              "    <g>\n",
              "        <path d=\"M19 3H5c-1.1 0-2 .9-2 2v14c0 1.1.9 2 2 2h14c1.1 0 2-.9 2-2V5c0-1.1-.9-2-2-2zM9 17H7v-7h2v7zm4 0h-2V7h2v10zm4 0h-2v-4h2v4z\"/>\n",
              "    </g>\n",
              "</svg>\n",
              "      </button>\n",
              "    </div>\n",
              "\n",
              "<style>\n",
              "  .colab-df-quickchart {\n",
              "    background-color: #E8F0FE;\n",
              "    border: none;\n",
              "    border-radius: 50%;\n",
              "    cursor: pointer;\n",
              "    display: none;\n",
              "    fill: #1967D2;\n",
              "    height: 32px;\n",
              "    padding: 0 0 0 0;\n",
              "    width: 32px;\n",
              "  }\n",
              "\n",
              "  .colab-df-quickchart:hover {\n",
              "    background-color: #E2EBFA;\n",
              "    box-shadow: 0px 1px 2px rgba(60, 64, 67, 0.3), 0px 1px 3px 1px rgba(60, 64, 67, 0.15);\n",
              "    fill: #174EA6;\n",
              "  }\n",
              "\n",
              "  [theme=dark] .colab-df-quickchart {\n",
              "    background-color: #3B4455;\n",
              "    fill: #D2E3FC;\n",
              "  }\n",
              "\n",
              "  [theme=dark] .colab-df-quickchart:hover {\n",
              "    background-color: #434B5C;\n",
              "    box-shadow: 0px 1px 3px 1px rgba(0, 0, 0, 0.15);\n",
              "    filter: drop-shadow(0px 1px 2px rgba(0, 0, 0, 0.3));\n",
              "    fill: #FFFFFF;\n",
              "  }\n",
              "</style>\n",
              "\n",
              "    <script>\n",
              "      async function quickchart(key) {\n",
              "        const containerElement = document.querySelector('#' + key);\n",
              "        const charts = await google.colab.kernel.invokeFunction(\n",
              "            'suggestCharts', [key], {});\n",
              "      }\n",
              "    </script>\n",
              "\n",
              "      <script>\n",
              "\n",
              "function displayQuickchartButton(domScope) {\n",
              "  let quickchartButtonEl =\n",
              "    domScope.querySelector('#df-0d3ef0c4-c4a8-499d-9a1c-742fd7eca985 button.colab-df-quickchart');\n",
              "  quickchartButtonEl.style.display =\n",
              "    google.colab.kernel.accessAllowed ? 'block' : 'none';\n",
              "}\n",
              "\n",
              "        displayQuickchartButton(document);\n",
              "      </script>\n",
              "      <style>\n",
              "    .colab-df-container {\n",
              "      display:flex;\n",
              "      flex-wrap:wrap;\n",
              "      gap: 12px;\n",
              "    }\n",
              "\n",
              "    .colab-df-convert {\n",
              "      background-color: #E8F0FE;\n",
              "      border: none;\n",
              "      border-radius: 50%;\n",
              "      cursor: pointer;\n",
              "      display: none;\n",
              "      fill: #1967D2;\n",
              "      height: 32px;\n",
              "      padding: 0 0 0 0;\n",
              "      width: 32px;\n",
              "    }\n",
              "\n",
              "    .colab-df-convert:hover {\n",
              "      background-color: #E2EBFA;\n",
              "      box-shadow: 0px 1px 2px rgba(60, 64, 67, 0.3), 0px 1px 3px 1px rgba(60, 64, 67, 0.15);\n",
              "      fill: #174EA6;\n",
              "    }\n",
              "\n",
              "    [theme=dark] .colab-df-convert {\n",
              "      background-color: #3B4455;\n",
              "      fill: #D2E3FC;\n",
              "    }\n",
              "\n",
              "    [theme=dark] .colab-df-convert:hover {\n",
              "      background-color: #434B5C;\n",
              "      box-shadow: 0px 1px 3px 1px rgba(0, 0, 0, 0.15);\n",
              "      filter: drop-shadow(0px 1px 2px rgba(0, 0, 0, 0.3));\n",
              "      fill: #FFFFFF;\n",
              "    }\n",
              "  </style>\n",
              "\n",
              "      <script>\n",
              "        const buttonEl =\n",
              "          document.querySelector('#df-8154a822-ce6d-4cb3-b2d1-e8af3ed4dfba button.colab-df-convert');\n",
              "        buttonEl.style.display =\n",
              "          google.colab.kernel.accessAllowed ? 'block' : 'none';\n",
              "\n",
              "        async function convertToInteractive(key) {\n",
              "          const element = document.querySelector('#df-8154a822-ce6d-4cb3-b2d1-e8af3ed4dfba');\n",
              "          const dataTable =\n",
              "            await google.colab.kernel.invokeFunction('convertToInteractive',\n",
              "                                                     [key], {});\n",
              "          if (!dataTable) return;\n",
              "\n",
              "          const docLinkHtml = 'Like what you see? Visit the ' +\n",
              "            '<a target=\"_blank\" href=https://colab.research.google.com/notebooks/data_table.ipynb>data table notebook</a>'\n",
              "            + ' to learn more about interactive tables.';\n",
              "          element.innerHTML = '';\n",
              "          dataTable['output_type'] = 'display_data';\n",
              "          await google.colab.output.renderOutput(dataTable, element);\n",
              "          const docLink = document.createElement('div');\n",
              "          docLink.innerHTML = docLinkHtml;\n",
              "          element.appendChild(docLink);\n",
              "        }\n",
              "      </script>\n",
              "    </div>\n",
              "  </div>\n"
            ]
          },
          "metadata": {},
          "execution_count": 58
        }
      ]
    },
    {
      "cell_type": "code",
      "source": [
        "final_model = grid.best_estimator_"
      ],
      "metadata": {
        "id": "uKJVJ4V0c0UG"
      },
      "execution_count": null,
      "outputs": []
    },
    {
      "cell_type": "code",
      "source": [
        "### predictions\n",
        "pred = final_model.predict(X = X_test)"
      ],
      "metadata": {
        "colab": {
          "base_uri": "https://localhost:8080/"
        },
        "id": "1Kj7_nYpjHOu",
        "outputId": "95d484dc-e394-43ab-d9b9-39ce9a30bb8c"
      },
      "execution_count": null,
      "outputs": [
        {
          "output_type": "stream",
          "name": "stderr",
          "text": [
            "/usr/local/lib/python3.10/dist-packages/sklearn/base.py:432: UserWarning: X has feature names, but MLPClassifier was fitted without feature names\n",
            "  warnings.warn(\n"
          ]
        }
      ]
    },
    {
      "cell_type": "code",
      "source": [
        "from sklearn.metrics import classification_report\n",
        "print(\n",
        "    classification_report(\n",
        "        y_true = y_test,\n",
        "        y_pred = pred\n",
        "    )\n",
        ")"
      ],
      "metadata": {
        "colab": {
          "base_uri": "https://localhost:8080/"
        },
        "id": "sVoZ1hJzjLkd",
        "outputId": "db9a34f4-aed6-4ccc-f1e0-0f2884081979"
      },
      "execution_count": null,
      "outputs": [
        {
          "output_type": "stream",
          "name": "stdout",
          "text": [
            "              precision    recall  f1-score   support\n",
            "\n",
            "           0       0.78      0.99      0.88       561\n",
            "           1       0.00      0.00      0.00       156\n",
            "\n",
            "    accuracy                           0.78       717\n",
            "   macro avg       0.39      0.50      0.44       717\n",
            "weighted avg       0.61      0.78      0.68       717\n",
            "\n"
          ]
        }
      ]
    },
    {
      "cell_type": "code",
      "source": [
        "import matplotlib.pyplot as plt\n",
        "import matplotlib.image as image\n",
        "file = \"drive/MyDrive/01 - Maestría Ciencia de Datos/Datos Masivos/Tarea 2/DiagramaProceso_BD.png\"\n",
        "process = image.imread(file)\n",
        "plt.imshow(process)"
      ],
      "metadata": {
        "colab": {
          "base_uri": "https://localhost:8080/",
          "height": 437
        },
        "id": "vCnGzIzCy70P",
        "outputId": "5e8fc5ff-abe7-4ada-93a7-b6501c7a4c19"
      },
      "execution_count": null,
      "outputs": [
        {
          "output_type": "execute_result",
          "data": {
            "text/plain": [
              "<matplotlib.image.AxesImage at 0x7eeb71f01840>"
            ]
          },
          "metadata": {},
          "execution_count": 63
        },
        {
          "output_type": "display_data",
          "data": {
            "text/plain": [
              "<Figure size 640x480 with 1 Axes>"
            ],
            "image/png": "[encoded data removed]"
          },
          "metadata": {}
        }
      ]
    },
    {
      "cell_type": "code",
      "source": [],
      "metadata": {
        "id": "xsEB225B5PAq"
      },
      "execution_count": null,
      "outputs": []
    }
  ]
}